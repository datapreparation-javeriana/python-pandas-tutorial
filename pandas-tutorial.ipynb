{
  "cells": [
    {
      "cell_type": "markdown",
      "metadata": {
        "id": "waAIGe5U1X_8"
      },
      "source": [
        "# Introduction to Pandas"
      ]
    },
    {
      "cell_type": "code",
      "execution_count": null,
      "metadata": {
        "id": "X4Yma5NL1X_-"
      },
      "outputs": [],
      "source": [
        "import pandas as pd\n",
        "\n",
        "import matplotlib.pyplot as plt"
      ]
    },
    {
      "cell_type": "markdown",
      "metadata": {
        "id": "ESZPOcmH1X__"
      },
      "source": [
        "## 1. First steps"
      ]
    },
    {
      "cell_type": "code",
      "execution_count": null,
      "metadata": {
        "id": "MKWsBwC31X__"
      },
      "outputs": [],
      "source": [
        "names = [\"Juan\", \"Pedro\", \"María\", \"Paula\", \"Diego\", \"Andrea\", \"Diana\"]\n",
        "ages = [22, 24, 32, 19, 52, 45, 61]"
      ]
    },
    {
      "cell_type": "code",
      "execution_count": null,
      "metadata": {
        "id": "7V5UvVGi1X__"
      },
      "outputs": [],
      "source": [
        "persons = list(zip(names, ages))\n",
        "persons"
      ]
    },
    {
      "cell_type": "code",
      "execution_count": null,
      "metadata": {
        "id": "mBwq6lCr1X__"
      },
      "outputs": [],
      "source": [
        "# Creating the dataframe\n",
        "persons_df = pd.DataFrame(data=persons, columns=[\"Name\", \"Age\"])\n",
        "persons_df"
      ]
    },
    {
      "cell_type": "code",
      "execution_count": null,
      "metadata": {
        "id": "qbxE1LLM1YAA"
      },
      "outputs": [],
      "source": [
        "# Writing to a CSV\n",
        "persons_df.to_csv(\"./data/persons.csv\", index=False)"
      ]
    },
    {
      "cell_type": "code",
      "execution_count": null,
      "metadata": {
        "id": "cO2hhsUz1YAA"
      },
      "outputs": [],
      "source": [
        "# Reading from a CSV\n",
        "persons_df = pd.read_csv(\"./data/persons.csv\")"
      ]
    },
    {
      "cell_type": "code",
      "execution_count": null,
      "metadata": {
        "id": "wQViQOAi1YAA"
      },
      "outputs": [],
      "source": [
        "# Showing the entire dataframe\n",
        "persons_df"
      ]
    },
    {
      "cell_type": "code",
      "execution_count": null,
      "metadata": {
        "id": "h86Lz_Wp1YAA"
      },
      "outputs": [],
      "source": [
        "# If dataframe has too many rows, you can print only the first records\n",
        "# You can also use the tail() function to print the last records\n",
        "persons_df.head()"
      ]
    },
    {
      "cell_type": "code",
      "execution_count": null,
      "metadata": {
        "id": "tcu8b1or1YAA"
      },
      "outputs": [],
      "source": [
        "# Printing column data types\n",
        "persons_df.dtypes"
      ]
    },
    {
      "cell_type": "code",
      "execution_count": null,
      "metadata": {
        "id": "hNA2kF1a1YAA"
      },
      "outputs": [],
      "source": [
        "# Sorting by a column\n",
        "persons_df_sorted = persons_df.sort_values(\"Age\", ascending=False)\n",
        "persons_df_sorted.head()"
      ]
    },
    {
      "cell_type": "code",
      "execution_count": null,
      "metadata": {
        "id": "k23ULk4x1YAB"
      },
      "outputs": [],
      "source": [
        "# Getting the greatest age\n",
        "persons_df[\"Age\"].max()"
      ]
    },
    {
      "cell_type": "code",
      "execution_count": null,
      "metadata": {
        "id": "7ULbMT3e1YAB"
      },
      "outputs": [],
      "source": [
        "# Creating a bar chart for visualizing ages\n",
        "plt.figure(figsize=(15, 8))\n",
        "plt.bar(persons_df_sorted[\"Name\"], persons_df_sorted[\"Age\"])"
      ]
    },
    {
      "cell_type": "markdown",
      "metadata": {
        "id": "AD_18Ws01YAB"
      },
      "source": [
        "##2. Experimenting with a different dataset"
      ]
    },
    {
      "cell_type": "code",
      "execution_count": null,
      "metadata": {
        "id": "x8IVvbPV1YAB"
      },
      "outputs": [],
      "source": [
        "# Reading from an URL\n",
        "got_df = pd.read_csv(\"https://raw.githubusercontent.com/datapreparation-javeriana/python-pandas-tutorial/master/data/got.csv\")"
      ]
    },
    {
      "cell_type": "code",
      "execution_count": null,
      "metadata": {
        "id": "OxlpkWvX1YAB"
      },
      "outputs": [],
      "source": [
        "got_df.head()"
      ]
    },
    {
      "cell_type": "code",
      "execution_count": null,
      "metadata": {
        "id": "zGfygdbz1YAB"
      },
      "outputs": [],
      "source": [
        "# Using a histogram for showing the distribution of a numerical column\n",
        "plt.figure(figsize=(15, 8))\n",
        "got_df[\"age\"].hist(bins=30)"
      ]
    },
    {
      "cell_type": "code",
      "execution_count": null,
      "metadata": {
        "id": "nN0wATLr1YAB"
      },
      "outputs": [],
      "source": [
        "# Getting unique values for a column\n",
        "got_df[\"house\"].unique()"
      ]
    },
    {
      "cell_type": "markdown",
      "metadata": {
        "id": "P11_xaCw1YAB"
      },
      "source": [
        "Q1: How many houses there are?"
      ]
    },
    {
      "cell_type": "code",
      "execution_count": null,
      "metadata": {
        "id": "OJiMc41r1YAB"
      },
      "outputs": [],
      "source": []
    },
    {
      "cell_type": "code",
      "execution_count": null,
      "metadata": {
        "id": "C7hluAxc1YAB"
      },
      "outputs": [],
      "source": [
        "# Counting records by house\n",
        "got_df.groupby([\"house\"]).agg(\"count\")[\"name\"]"
      ]
    },
    {
      "cell_type": "markdown",
      "metadata": {
        "id": "tqjoCscV1YAC"
      },
      "source": [
        "Q2: Which is the house with more characters?"
      ]
    },
    {
      "cell_type": "code",
      "execution_count": null,
      "metadata": {
        "id": "TC83_L-i1YAC"
      },
      "outputs": [],
      "source": []
    },
    {
      "cell_type": "markdown",
      "metadata": {
        "id": "HCi43aDa1YAC"
      },
      "source": [
        "Q3: Which are the 5 houses with more characters?"
      ]
    },
    {
      "cell_type": "code",
      "execution_count": null,
      "metadata": {
        "id": "1qJ50K9_1YAC"
      },
      "outputs": [],
      "source": []
    },
    {
      "cell_type": "markdown",
      "metadata": {
        "id": "7bAdR33S1YAC"
      },
      "source": [
        "Q4: Who are the 5 oldest characters?"
      ]
    },
    {
      "cell_type": "code",
      "execution_count": null,
      "metadata": {
        "id": "jPACS_vW1YAC"
      },
      "outputs": [],
      "source": []
    },
    {
      "cell_type": "markdown",
      "metadata": {
        "id": "PJLSFTzJ1YAC"
      },
      "source": [
        "Q5: How many characters have 100 years?"
      ]
    },
    {
      "cell_type": "code",
      "execution_count": null,
      "metadata": {
        "id": "szRsM-2f1YAC"
      },
      "outputs": [],
      "source": []
    },
    {
      "cell_type": "markdown",
      "metadata": {
        "id": "AHU_ZW3a1YAC"
      },
      "source": [
        "Q6: How is distribuited characters older than 80 by house?"
      ]
    },
    {
      "cell_type": "code",
      "execution_count": null,
      "metadata": {
        "id": "o_Y8DLEU1YAC"
      },
      "outputs": [],
      "source": []
    },
    {
      "cell_type": "code",
      "execution_count": null,
      "metadata": {
        "id": "8SwPTaOx1YAC"
      },
      "outputs": [],
      "source": [
        "# Transforming a column row by row and storing the result into a new column\n",
        "got_df[\"name_upper\"] = got_df[\"name\"].apply(lambda x: x.upper())"
      ]
    },
    {
      "cell_type": "code",
      "execution_count": null,
      "metadata": {
        "id": "qdoFMD_11YAC"
      },
      "outputs": [],
      "source": [
        "got_df.head()"
      ]
    },
    {
      "cell_type": "markdown",
      "metadata": {
        "id": "zYSDuEOm1YAC"
      },
      "source": [
        "Q7: Who are the 5 characters with the largest names?"
      ]
    },
    {
      "cell_type": "code",
      "execution_count": null,
      "metadata": {
        "id": "5GyaBrZa1YAC"
      },
      "outputs": [],
      "source": []
    },
    {
      "cell_type": "markdown",
      "metadata": {
        "id": "dq_qHAZF1YAC"
      },
      "source": [
        "##3. Loading a third dataset"
      ]
    },
    {
      "cell_type": "code",
      "execution_count": null,
      "metadata": {
        "id": "eFGtNxf31YAC"
      },
      "outputs": [],
      "source": [
        "# Loading a plain file with a different separator\n",
        "chipo_df = pd.read_csv(\"https://raw.githubusercontent.com/datapreparation-javeriana/python-pandas-tutorial/master/data/chipotle.tsv\", sep=\"\\t\")"
      ]
    },
    {
      "cell_type": "code",
      "execution_count": null,
      "metadata": {
        "id": "zV13YAvJ1YAC"
      },
      "outputs": [],
      "source": [
        "chipo_df.dtypes"
      ]
    },
    {
      "cell_type": "markdown",
      "metadata": {
        "id": "exmMbHHJ1YAC"
      },
      "source": [
        "Q8: Print first 10 records"
      ]
    },
    {
      "cell_type": "code",
      "execution_count": null,
      "metadata": {
        "id": "VfzBK7-y1YAD"
      },
      "outputs": [],
      "source": []
    },
    {
      "cell_type": "markdown",
      "metadata": {
        "id": "z8rCsvCo1YAD"
      },
      "source": [
        "Q9: How many records and columns has the dataset?"
      ]
    },
    {
      "cell_type": "code",
      "execution_count": null,
      "metadata": {
        "id": "VDWCA5fm1YAD"
      },
      "outputs": [],
      "source": []
    },
    {
      "cell_type": "code",
      "execution_count": null,
      "metadata": {
        "id": "lEdvx_ZA1YAD"
      },
      "outputs": [],
      "source": [
        "chipo_df.columns"
      ]
    },
    {
      "cell_type": "markdown",
      "metadata": {
        "id": "BftPUVRe1YAD"
      },
      "source": [
        "Q10: Which is the most ordered item?"
      ]
    },
    {
      "cell_type": "code",
      "execution_count": null,
      "metadata": {
        "id": "AWcpxSFT1YAD"
      },
      "outputs": [],
      "source": []
    },
    {
      "cell_type": "markdown",
      "metadata": {
        "id": "cF949y8c1YAD"
      },
      "source": [
        "Q11: How many items were ordered in total?"
      ]
    },
    {
      "cell_type": "code",
      "execution_count": null,
      "metadata": {
        "id": "NrVVovR61YAD"
      },
      "outputs": [],
      "source": []
    },
    {
      "cell_type": "markdown",
      "metadata": {
        "id": "DzELfPBT1YAD"
      },
      "source": [
        "Q12: Transforming pice to float"
      ]
    },
    {
      "cell_type": "code",
      "execution_count": null,
      "metadata": {
        "id": "WoUAyLmO1YAD"
      },
      "outputs": [],
      "source": []
    },
    {
      "cell_type": "markdown",
      "metadata": {
        "id": "oDG30ygJ1YAD"
      },
      "source": [
        "Q13: What is the total revenue reported in the dataset?"
      ]
    },
    {
      "cell_type": "code",
      "execution_count": null,
      "metadata": {
        "id": "KZuasZqB1YAD"
      },
      "outputs": [],
      "source": []
    },
    {
      "cell_type": "markdown",
      "metadata": {
        "id": "usIllP1m1YAD"
      },
      "source": [
        "Q14: How many orders were placed?"
      ]
    },
    {
      "cell_type": "code",
      "execution_count": null,
      "metadata": {
        "id": "ygoLrvqN1YAD"
      },
      "outputs": [],
      "source": []
    },
    {
      "cell_type": "markdown",
      "metadata": {
        "id": "qGPE1jgA1YAD"
      },
      "source": [
        "Q15: What is the average quantity by order?"
      ]
    },
    {
      "cell_type": "code",
      "execution_count": null,
      "metadata": {
        "id": "sfxdX6Bh1YAD"
      },
      "outputs": [],
      "source": []
    },
    {
      "cell_type": "markdown",
      "metadata": {
        "id": "PPhZUH8L1YAD"
      },
      "source": [
        "Q16: How many different items were sold?"
      ]
    },
    {
      "cell_type": "code",
      "execution_count": null,
      "metadata": {
        "id": "FS_Mzr901YAD"
      },
      "outputs": [],
      "source": []
    },
    {
      "cell_type": "markdown",
      "metadata": {
        "id": "Wf65o-GR1YAD"
      },
      "source": [
        "##4. Working with more datasets"
      ]
    },
    {
      "cell_type": "code",
      "execution_count": null,
      "metadata": {
        "id": "CNg71v3_1YAD"
      },
      "outputs": [],
      "source": [
        "euro_df = pd.read_csv(\"https://raw.githubusercontent.com/datapreparation-javeriana/python-pandas-tutorial/master/data/euro.csv\")\n",
        "euro_df.head()"
      ]
    },
    {
      "cell_type": "code",
      "execution_count": null,
      "metadata": {
        "id": "vd1MdBc41YAD"
      },
      "outputs": [],
      "source": [
        "# Selecting a set of columns\n",
        "cards_df = euro_df[[\"Team\", \"Yellow Cards\", \"Red Cards\"]]\n",
        "cards_df.head()"
      ]
    },
    {
      "cell_type": "code",
      "execution_count": null,
      "metadata": {
        "id": "sZOeyO0c1YAE"
      },
      "outputs": [],
      "source": [
        "# Sorting by multiple columns\n",
        "cards_df.sort_values([\"Red Cards\", \"Yellow Cards\"], ascending=False)"
      ]
    },
    {
      "cell_type": "markdown",
      "metadata": {
        "id": "-IVZ8LMb1YAE"
      },
      "source": [
        "Q17: Which teams score more than 3?"
      ]
    },
    {
      "cell_type": "code",
      "execution_count": null,
      "metadata": {
        "id": "ndRFAa4d1YAE"
      },
      "outputs": [],
      "source": []
    },
    {
      "cell_type": "markdown",
      "metadata": {
        "id": "_vqOmzGX1YAE"
      },
      "source": [
        "Q18: Which team names start with 'G'?"
      ]
    },
    {
      "cell_type": "code",
      "execution_count": null,
      "metadata": {
        "id": "j5am5xs41YAE"
      },
      "outputs": [],
      "source": []
    },
    {
      "cell_type": "markdown",
      "metadata": {
        "id": "Vc_vu4_11YAE"
      },
      "source": [
        "Q19: Present only the name and precision for England, Italy and Russia"
      ]
    },
    {
      "cell_type": "code",
      "execution_count": null,
      "metadata": {
        "id": "VClGYicW1YAE"
      },
      "outputs": [],
      "source": []
    },
    {
      "cell_type": "markdown",
      "metadata": {
        "id": "Bm7sLA3Z1YAE"
      },
      "source": [
        "##5. Aggregations with syntethic data"
      ]
    },
    {
      "cell_type": "code",
      "execution_count": null,
      "metadata": {
        "id": "1xrhLdRP1YAE"
      },
      "outputs": [],
      "source": [
        "regiment_dict = {\"regiment\": [\"Nighthawks\", \"Nighthawks\", \"Nighthawks\", \"Nighthawks\", \"Dragoons\", \"Dragoons\", \"Dragoons\", \"Dragoons\", \"Scouts\", \"Scouts\", \"Scouts\", \"Scouts\"], \n",
        "        \"company\": [\"1st\", \"1st\", \"2nd\", \"2nd\", \"1st\", \"1st\", \"2nd\", \"2nd\",\"1st\", \"1st\", \"2nd\", \"2nd\"], \n",
        "        \"name\": [\"Miller\", \"Jacobson\", \"Ali\", \"Milner\", \"Cooze\", \"Jacon\", \"Ryaner\", \"Sone\", \"Sloan\", \"Piger\", \"Riani\", \"Ali\"], \n",
        "        \"preTestScore\": [4, 24, 31, 2, 3, 4, 24, 31, 2, 3, 2, 3],\n",
        "        \"postTestScore\": [25, 94, 57, 62, 70, 25, 94, 57, 62, 70, 62, 70]}"
      ]
    },
    {
      "cell_type": "code",
      "execution_count": null,
      "metadata": {
        "id": "Ou8-6oYq1YAE"
      },
      "outputs": [],
      "source": [
        "# Transforming a dictionary to a dataframe\n",
        "regiment_df = pd.DataFrame(raw_data, columns=regiment_dict.keys())\n",
        "regiment_df"
      ]
    },
    {
      "cell_type": "code",
      "execution_count": null,
      "metadata": {
        "id": "drTFd6nB1YAE"
      },
      "outputs": [],
      "source": [
        "# Calculating basic stats for numerical columns\n",
        "regiment_df.describe()"
      ]
    },
    {
      "cell_type": "code",
      "execution_count": null,
      "metadata": {
        "id": "3_untWpM1YAE"
      },
      "outputs": [],
      "source": [
        "# Calculating basic stats by group\n",
        "regiment_df.groupby(\"company\").describe()"
      ]
    },
    {
      "cell_type": "code",
      "execution_count": null,
      "metadata": {
        "id": "XngaYyzO1YAE"
      },
      "outputs": [],
      "source": [
        "# Calculating the mean of a column by grouping multiple columns\n",
        "regiment_df.groupby([\"regiment\", \"company\"])[\"preTestScore\"].mean()"
      ]
    },
    {
      "cell_type": "code",
      "execution_count": null,
      "metadata": {
        "id": "7NYhQs4P1YAE"
      },
      "outputs": [],
      "source": [
        "# Pivoting the result\n",
        "regiment_df.groupby([\"regiment\", \"company\"])[\"preTestScore\"].mean().unstack()"
      ]
    },
    {
      "cell_type": "markdown",
      "metadata": {
        "id": "hokIcrEk1YAE"
      },
      "source": [
        "##6. Concatenating and merging"
      ]
    },
    {
      "cell_type": "code",
      "execution_count": null,
      "metadata": {
        "id": "wFmQJUmt1YAE"
      },
      "outputs": [],
      "source": [
        "raw_data_1 = {\n",
        "        \"subject_id\": [\"1\", \"2\", \"3\", \"4\", \"5\"],\n",
        "        \"first_name\": [\"Alex\", \"Amy\", \"Allen\", \"Alice\", \"Ayoung\"], \n",
        "        \"last_name\": [\"Anderson\", \"Ackerman\", \"Ali\", \"Aoni\", \"Atiches\"]}\n",
        "\n",
        "raw_data_2 = {\n",
        "        \"subject_id\": [\"4\", \"5\", \"6\", \"7\", \"8\"],\n",
        "        \"first_name\": [\"Billy\", \"Brian\", \"Bran\", \"Bryce\", \"Betty\"], \n",
        "        \"last_name\": [\"Bonder\", \"Black\", \"Balwner\", \"Brice\", \"Btisan\"]}\n",
        "\n",
        "raw_data_3 = {\n",
        "        \"subject_id\": [\"1\", \"2\", \"3\", \"4\", \"5\", \"7\", \"8\", \"9\", \"10\", \"11\"],\n",
        "        \"test_id\": [51, 15, 15, 61, 16, 14, 15, 1, 61, 16]}"
      ]
    },
    {
      "cell_type": "code",
      "execution_count": null,
      "metadata": {
        "id": "ByNY4EJ21YAE"
      },
      "outputs": [],
      "source": [
        "data1_df = pd.DataFrame(raw_data_1)\n",
        "data2_df = pd.DataFrame(raw_data_2)"
      ]
    },
    {
      "cell_type": "code",
      "execution_count": null,
      "metadata": {
        "id": "cf66ughD1YAE"
      },
      "outputs": [],
      "source": [
        "data1_df"
      ]
    },
    {
      "cell_type": "code",
      "execution_count": null,
      "metadata": {
        "id": "rDYYgelB1YAE"
      },
      "outputs": [],
      "source": [
        "data2_df"
      ]
    },
    {
      "cell_type": "code",
      "execution_count": null,
      "metadata": {
        "id": "HIOvT3n61YAF"
      },
      "outputs": [],
      "source": [
        "# Concatenating dataframes\n",
        "all_data = pd.concat([data1_df, data2_df])\n",
        "all_data"
      ]
    },
    {
      "cell_type": "code",
      "execution_count": null,
      "metadata": {
        "id": "va7ebMol1YAF"
      },
      "outputs": [],
      "source": [
        "# Merging (joining) dataframes\n",
        "pd.merge(data1_df, data2_df, on=\"subject_id\", how=\"inner\")"
      ]
    },
    {
      "cell_type": "code",
      "execution_count": null,
      "metadata": {
        "id": "GBBILssO1YAF"
      },
      "outputs": [],
      "source": [
        "# Changing the type of join\n",
        "pd.merge(data1_df, data2_df, on=\"subject_id\", how=\"outer\")"
      ]
    },
    {
      "cell_type": "code",
      "execution_count": null,
      "metadata": {
        "id": "eFQHydhZ1YAF"
      },
      "outputs": [],
      "source": []
    }
  ],
  "metadata": {
    "kernelspec": {
      "display_name": "Python 3 (ipykernel)",
      "language": "python",
      "name": "python3"
    },
    "language_info": {
      "codemirror_mode": {
        "name": "ipython",
        "version": 3
      },
      "file_extension": ".py",
      "mimetype": "text/x-python",
      "name": "python",
      "nbconvert_exporter": "python",
      "pygments_lexer": "ipython3",
      "version": "3.9.12"
    },
    "colab": {
      "provenance": []
    }
  },
  "nbformat": 4,
  "nbformat_minor": 0
}